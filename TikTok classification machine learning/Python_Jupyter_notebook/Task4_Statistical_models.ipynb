{
 "cells": [
  {
   "cell_type": "markdown",
   "metadata": {},
   "source": [
    "**Task 4: Statistical tests for verified and unverified accounts**\n",
    "\n",
    "Overview: The stakeholders are interested in whether there is a statistical difference in the data between verified and unverified accounts.\n",
    "\n",
    "Goal: I aim to identify whether there is a difference between mean video view count of verified and unverified accounts, and whether the result is statistically significant. For this, I will use 2 sample T test hypotheses test."
   ]
  },
  {
   "cell_type": "code",
   "execution_count": 17,
   "metadata": {},
   "outputs": [
    {
     "data": {
      "text/html": [
       "<div>\n",
       "<style scoped>\n",
       "    .dataframe tbody tr th:only-of-type {\n",
       "        vertical-align: middle;\n",
       "    }\n",
       "\n",
       "    .dataframe tbody tr th {\n",
       "        vertical-align: top;\n",
       "    }\n",
       "\n",
       "    .dataframe thead th {\n",
       "        text-align: right;\n",
       "    }\n",
       "</style>\n",
       "<table border=\"1\" class=\"dataframe\">\n",
       "  <thead>\n",
       "    <tr style=\"text-align: right;\">\n",
       "      <th></th>\n",
       "      <th>#</th>\n",
       "      <th>claim_status</th>\n",
       "      <th>video_id</th>\n",
       "      <th>video_duration_sec</th>\n",
       "      <th>video_transcription_text</th>\n",
       "      <th>verified_status</th>\n",
       "      <th>author_ban_status</th>\n",
       "      <th>video_view_count</th>\n",
       "      <th>video_like_count</th>\n",
       "      <th>video_share_count</th>\n",
       "      <th>video_download_count</th>\n",
       "      <th>video_comment_count</th>\n",
       "    </tr>\n",
       "  </thead>\n",
       "  <tbody>\n",
       "    <tr>\n",
       "      <th>0</th>\n",
       "      <td>1</td>\n",
       "      <td>claim</td>\n",
       "      <td>7017666017</td>\n",
       "      <td>59</td>\n",
       "      <td>someone shared with me that drone deliveries a...</td>\n",
       "      <td>not verified</td>\n",
       "      <td>under review</td>\n",
       "      <td>343296.0</td>\n",
       "      <td>19425.0</td>\n",
       "      <td>241.0</td>\n",
       "      <td>1.0</td>\n",
       "      <td>0.0</td>\n",
       "    </tr>\n",
       "    <tr>\n",
       "      <th>1</th>\n",
       "      <td>2</td>\n",
       "      <td>claim</td>\n",
       "      <td>4014381136</td>\n",
       "      <td>32</td>\n",
       "      <td>someone shared with me that there are more mic...</td>\n",
       "      <td>not verified</td>\n",
       "      <td>active</td>\n",
       "      <td>140877.0</td>\n",
       "      <td>77355.0</td>\n",
       "      <td>19034.0</td>\n",
       "      <td>1161.0</td>\n",
       "      <td>684.0</td>\n",
       "    </tr>\n",
       "    <tr>\n",
       "      <th>2</th>\n",
       "      <td>3</td>\n",
       "      <td>claim</td>\n",
       "      <td>9859838091</td>\n",
       "      <td>31</td>\n",
       "      <td>someone shared with me that american industria...</td>\n",
       "      <td>not verified</td>\n",
       "      <td>active</td>\n",
       "      <td>902185.0</td>\n",
       "      <td>97690.0</td>\n",
       "      <td>2858.0</td>\n",
       "      <td>833.0</td>\n",
       "      <td>329.0</td>\n",
       "    </tr>\n",
       "    <tr>\n",
       "      <th>3</th>\n",
       "      <td>4</td>\n",
       "      <td>claim</td>\n",
       "      <td>1866847991</td>\n",
       "      <td>25</td>\n",
       "      <td>someone shared with me that the metro of st. p...</td>\n",
       "      <td>not verified</td>\n",
       "      <td>active</td>\n",
       "      <td>437506.0</td>\n",
       "      <td>239954.0</td>\n",
       "      <td>34812.0</td>\n",
       "      <td>1234.0</td>\n",
       "      <td>584.0</td>\n",
       "    </tr>\n",
       "    <tr>\n",
       "      <th>4</th>\n",
       "      <td>5</td>\n",
       "      <td>claim</td>\n",
       "      <td>7105231098</td>\n",
       "      <td>19</td>\n",
       "      <td>someone shared with me that the number of busi...</td>\n",
       "      <td>not verified</td>\n",
       "      <td>active</td>\n",
       "      <td>56167.0</td>\n",
       "      <td>34987.0</td>\n",
       "      <td>4110.0</td>\n",
       "      <td>547.0</td>\n",
       "      <td>152.0</td>\n",
       "    </tr>\n",
       "  </tbody>\n",
       "</table>\n",
       "</div>"
      ],
      "text/plain": [
       "   # claim_status    video_id  video_duration_sec  \\\n",
       "0  1        claim  7017666017                  59   \n",
       "1  2        claim  4014381136                  32   \n",
       "2  3        claim  9859838091                  31   \n",
       "3  4        claim  1866847991                  25   \n",
       "4  5        claim  7105231098                  19   \n",
       "\n",
       "                            video_transcription_text verified_status  \\\n",
       "0  someone shared with me that drone deliveries a...    not verified   \n",
       "1  someone shared with me that there are more mic...    not verified   \n",
       "2  someone shared with me that american industria...    not verified   \n",
       "3  someone shared with me that the metro of st. p...    not verified   \n",
       "4  someone shared with me that the number of busi...    not verified   \n",
       "\n",
       "  author_ban_status  video_view_count  video_like_count  video_share_count  \\\n",
       "0      under review          343296.0           19425.0              241.0   \n",
       "1            active          140877.0           77355.0            19034.0   \n",
       "2            active          902185.0           97690.0             2858.0   \n",
       "3            active          437506.0          239954.0            34812.0   \n",
       "4            active           56167.0           34987.0             4110.0   \n",
       "\n",
       "   video_download_count  video_comment_count  \n",
       "0                   1.0                  0.0  \n",
       "1                1161.0                684.0  \n",
       "2                 833.0                329.0  \n",
       "3                1234.0                584.0  \n",
       "4                 547.0                152.0  "
      ]
     },
     "execution_count": 17,
     "metadata": {},
     "output_type": "execute_result"
    }
   ],
   "source": [
    "#import data libraries and load dataset (tiktok_dataset.csv)\n",
    "import pandas as pd \n",
    "import numpy as np \n",
    "import seaborn as sns\n",
    "import matplotlib.pyplot as plt \n",
    "import scipy.stats as stats\n",
    "import statsmodels.stats.api as sms\n",
    "\n",
    "TikTok_df = pd.read_csv(r\"C:\\Users\\LENOVO\\OneDrive\\Desktop\\Data analytics\\Portfolio\\Full_cycle projects\\TikTok classification machine learning\\Dataset\\tiktok_dataset.csv\")\n",
    "\n",
    "pd.set_option('display.max.row', 140)\n",
    "pd.set_option('display.max.columns', 30)\n",
    "TikTok_df.head()"
   ]
  },
  {
   "cell_type": "code",
   "execution_count": 18,
   "metadata": {},
   "outputs": [
    {
     "data": {
      "text/plain": [
       "#                             0\n",
       "claim_status                298\n",
       "video_id                      0\n",
       "video_duration_sec            0\n",
       "video_transcription_text    298\n",
       "verified_status               0\n",
       "author_ban_status             0\n",
       "video_view_count            298\n",
       "video_like_count            298\n",
       "video_share_count           298\n",
       "video_download_count        298\n",
       "video_comment_count         298\n",
       "dtype: int64"
      ]
     },
     "execution_count": 18,
     "metadata": {},
     "output_type": "execute_result"
    }
   ],
   "source": [
    "#Identify total nulls \n",
    "TikTok_df.isna().sum()"
   ]
  },
  {
   "cell_type": "code",
   "execution_count": 19,
   "metadata": {},
   "outputs": [
    {
     "data": {
      "text/plain": [
       "(19084, 12)"
      ]
     },
     "execution_count": 19,
     "metadata": {},
     "output_type": "execute_result"
    }
   ],
   "source": [
    "#Drop 298 rows with null values \n",
    "TikTok_df.dropna(axis=0, inplace= True)\n",
    "TikTok_df.shape"
   ]
  },
  {
   "cell_type": "code",
   "execution_count": 38,
   "metadata": {},
   "outputs": [
    {
     "data": {
      "text/html": [
       "<div>\n",
       "<style scoped>\n",
       "    .dataframe tbody tr th:only-of-type {\n",
       "        vertical-align: middle;\n",
       "    }\n",
       "\n",
       "    .dataframe tbody tr th {\n",
       "        vertical-align: top;\n",
       "    }\n",
       "\n",
       "    .dataframe thead th {\n",
       "        text-align: right;\n",
       "    }\n",
       "</style>\n",
       "<table border=\"1\" class=\"dataframe\">\n",
       "  <thead>\n",
       "    <tr style=\"text-align: right;\">\n",
       "      <th></th>\n",
       "      <th>#</th>\n",
       "      <th>video_id</th>\n",
       "      <th>video_duration_sec</th>\n",
       "      <th>video_view_count</th>\n",
       "      <th>video_like_count</th>\n",
       "      <th>video_share_count</th>\n",
       "      <th>video_download_count</th>\n",
       "      <th>video_comment_count</th>\n",
       "    </tr>\n",
       "  </thead>\n",
       "  <tbody>\n",
       "    <tr>\n",
       "      <th>count</th>\n",
       "      <td>19084.000000</td>\n",
       "      <td>1.908400e+04</td>\n",
       "      <td>19084.000000</td>\n",
       "      <td>19084.000000</td>\n",
       "      <td>19084.000000</td>\n",
       "      <td>19084.000000</td>\n",
       "      <td>19084.000000</td>\n",
       "      <td>19084.000000</td>\n",
       "    </tr>\n",
       "    <tr>\n",
       "      <th>mean</th>\n",
       "      <td>9542.500000</td>\n",
       "      <td>5.624840e+09</td>\n",
       "      <td>32.423811</td>\n",
       "      <td>254708.558688</td>\n",
       "      <td>84304.636030</td>\n",
       "      <td>16735.248323</td>\n",
       "      <td>1049.429627</td>\n",
       "      <td>349.312146</td>\n",
       "    </tr>\n",
       "    <tr>\n",
       "      <th>std</th>\n",
       "      <td>5509.220604</td>\n",
       "      <td>2.537030e+09</td>\n",
       "      <td>16.226470</td>\n",
       "      <td>322893.280814</td>\n",
       "      <td>133420.546814</td>\n",
       "      <td>32036.174350</td>\n",
       "      <td>2004.299894</td>\n",
       "      <td>799.638865</td>\n",
       "    </tr>\n",
       "    <tr>\n",
       "      <th>min</th>\n",
       "      <td>1.000000</td>\n",
       "      <td>1.234959e+09</td>\n",
       "      <td>5.000000</td>\n",
       "      <td>20.000000</td>\n",
       "      <td>0.000000</td>\n",
       "      <td>0.000000</td>\n",
       "      <td>0.000000</td>\n",
       "      <td>0.000000</td>\n",
       "    </tr>\n",
       "    <tr>\n",
       "      <th>25%</th>\n",
       "      <td>4771.750000</td>\n",
       "      <td>3.425100e+09</td>\n",
       "      <td>18.000000</td>\n",
       "      <td>4942.500000</td>\n",
       "      <td>810.750000</td>\n",
       "      <td>115.000000</td>\n",
       "      <td>7.000000</td>\n",
       "      <td>1.000000</td>\n",
       "    </tr>\n",
       "    <tr>\n",
       "      <th>50%</th>\n",
       "      <td>9542.500000</td>\n",
       "      <td>5.609500e+09</td>\n",
       "      <td>32.000000</td>\n",
       "      <td>9954.500000</td>\n",
       "      <td>3403.500000</td>\n",
       "      <td>717.000000</td>\n",
       "      <td>46.000000</td>\n",
       "      <td>9.000000</td>\n",
       "    </tr>\n",
       "    <tr>\n",
       "      <th>75%</th>\n",
       "      <td>14313.250000</td>\n",
       "      <td>7.840823e+09</td>\n",
       "      <td>47.000000</td>\n",
       "      <td>504327.000000</td>\n",
       "      <td>125020.000000</td>\n",
       "      <td>18222.000000</td>\n",
       "      <td>1156.250000</td>\n",
       "      <td>292.000000</td>\n",
       "    </tr>\n",
       "    <tr>\n",
       "      <th>max</th>\n",
       "      <td>19084.000000</td>\n",
       "      <td>9.999873e+09</td>\n",
       "      <td>60.000000</td>\n",
       "      <td>999817.000000</td>\n",
       "      <td>657830.000000</td>\n",
       "      <td>256130.000000</td>\n",
       "      <td>14994.000000</td>\n",
       "      <td>9599.000000</td>\n",
       "    </tr>\n",
       "  </tbody>\n",
       "</table>\n",
       "</div>"
      ],
      "text/plain": [
       "                  #      video_id  video_duration_sec  video_view_count  \\\n",
       "count  19084.000000  1.908400e+04        19084.000000      19084.000000   \n",
       "mean    9542.500000  5.624840e+09           32.423811     254708.558688   \n",
       "std     5509.220604  2.537030e+09           16.226470     322893.280814   \n",
       "min        1.000000  1.234959e+09            5.000000         20.000000   \n",
       "25%     4771.750000  3.425100e+09           18.000000       4942.500000   \n",
       "50%     9542.500000  5.609500e+09           32.000000       9954.500000   \n",
       "75%    14313.250000  7.840823e+09           47.000000     504327.000000   \n",
       "max    19084.000000  9.999873e+09           60.000000     999817.000000   \n",
       "\n",
       "       video_like_count  video_share_count  video_download_count  \\\n",
       "count      19084.000000       19084.000000          19084.000000   \n",
       "mean       84304.636030       16735.248323           1049.429627   \n",
       "std       133420.546814       32036.174350           2004.299894   \n",
       "min            0.000000           0.000000              0.000000   \n",
       "25%          810.750000         115.000000              7.000000   \n",
       "50%         3403.500000         717.000000             46.000000   \n",
       "75%       125020.000000       18222.000000           1156.250000   \n",
       "max       657830.000000      256130.000000          14994.000000   \n",
       "\n",
       "       video_comment_count  \n",
       "count         19084.000000  \n",
       "mean            349.312146  \n",
       "std             799.638865  \n",
       "min               0.000000  \n",
       "25%               1.000000  \n",
       "50%               9.000000  \n",
       "75%             292.000000  \n",
       "max            9599.000000  "
      ]
     },
     "execution_count": 38,
     "metadata": {},
     "output_type": "execute_result"
    }
   ],
   "source": [
    "#Descriptive statistics for numeric columns \n",
    "TikTok_df.select_dtypes(include= ['number']).describe()"
   ]
  },
  {
   "cell_type": "markdown",
   "metadata": {},
   "source": [
    "**Check data assumptions for the 2 sample T test**\n",
    "\n",
    "1. Data should be independent (condition is met)\n",
    "2. Data are normal distribution\n",
    "3. Measurements are continuous (condition is met)\n",
    "4. Whether they have equal or unequal variances "
   ]
  },
  {
   "cell_type": "code",
   "execution_count": 21,
   "metadata": {},
   "outputs": [],
   "source": [
    "#Organize data for verified and unverified accounts \n",
    "verified_account = TikTok_df[TikTok_df['verified_status'] == 'verified']\n",
    "notverified_account= TikTok_df[TikTok_df['verified_status'] == 'not verified']"
   ]
  },
  {
   "cell_type": "code",
   "execution_count": 54,
   "metadata": {},
   "outputs": [
    {
     "data": {
      "text/plain": [
       "Text(-930000, 7000, 'Observation: We have a very skewed sample data and this\\nshould be noted for the future predictive model. However, data\\n sample size are large enough and meet the CLT condition, and\\n we can proceed with the 2 sample T test.  ')"
      ]
     },
     "execution_count": 54,
     "metadata": {},
     "output_type": "execute_result"
    },
    {
     "data": {
      "image/png": "[encoded data removed]",
      "text/plain": [
       "<Figure size 1900x490 with 2 Axes>"
      ]
     },
     "metadata": {},
     "output_type": "display_data"
    }
   ],
   "source": [
    "#Histogram to compare sample data distribution\n",
    "fig, axs = plt.subplots(1,2, figsize=(19, 4.9)) \n",
    "sns.histplot(data= verified_account, x= 'video_view_count', bins= 20, ax=axs[0] )\n",
    "axs[0].set_title('Distribution of verified status view count', weight='bold')\n",
    "\n",
    "#Add a second histogram\n",
    "sns.histplot(data= notverified_account, x= 'video_view_count', bins= 20, ax=axs[1] )\n",
    "axs[1].set_title('Distribution of not verified status view count', weight='bold')\n",
    "\n",
    "# Adjust layout\n",
    "plt.tight_layout()\n",
    "\n",
    "#Add description text\n",
    "plt.text(-930000, 7000, 'Observation: We have a very skewed sample data and this\\nshould be noted for the future predictive model. However, data\\n sample size are large enough and meet the CLT condition, and\\n we can proceed with the 2 sample T test.  ', fontsize=12, bbox=dict(facecolor='white', alpha=0.5))"
   ]
  },
  {
   "cell_type": "code",
   "execution_count": 73,
   "metadata": {},
   "outputs": [
    {
     "name": "stdout",
     "output_type": "stream",
     "text": [
      "F-statistics:  2.168989443951626\n",
      "p-value:  1.1102230246251565e-16\n",
      "Reject the null hypothesis (Ho) as we have close to zero P value,\n",
      " our sample data have unequal variances, so I proceed with the t-test assuming unequal variances Welch\n"
     ]
    }
   ],
   "source": [
    "#F test to identify whether 2 sample data have equal or unequal variances \n",
    "'''Hypothesis: Ho: both sample data have equal variances \n",
    "               H1: both sample data have unequal variances \n",
    "'''\n",
    "#Calculate variances\n",
    "var_verified = np.var(verified_account['video_view_count'], ddof=1)\n",
    "var_not_verified = np.var(notverified_account['video_view_count'], ddof=1)\n",
    "\n",
    "# Calculate sample sizes\n",
    "n_verified = len(verified_account)\n",
    "n_not_verified = len(notverified_account)\n",
    "\n",
    "# F-statistics\n",
    "F = var_not_verified / var_verified\n",
    "\n",
    "#Degrees of freedom\n",
    "dfn = n_not_verified - 1\n",
    "dfd = n_verified - 1\n",
    "\n",
    "#P value\n",
    "p_value_F = 1 - stats.f.cdf(F, dfn, dfd)\n",
    "\n",
    "#Show values \n",
    "print('F-statistics: ', F)\n",
    "print('p-value: ', p_value_F)\n",
    "print('Reject the null hypothesis (Ho) as we have close to zero P value,\\n our sample data have unequal variances, so I proceed with the t-test assuming unequal variances Welch')\n"
   ]
  },
  {
   "cell_type": "markdown",
   "metadata": {},
   "source": [
    "**Welch's T-test**"
   ]
  },
  {
   "cell_type": "code",
   "execution_count": 91,
   "metadata": {},
   "outputs": [
    {
     "data": {
      "text/html": [
       "<style type=\"text/css\">\n",
       "#T_057fb_row0_col1 {\n",
       "  background-color: #023858;\n",
       "  color: #f1f1f1;\n",
       "}\n",
       "#T_057fb_row1_col1 {\n",
       "  background-color: #fff7fb;\n",
       "  color: #000000;\n",
       "}\n",
       "</style>\n",
       "<table id=\"T_057fb\">\n",
       "  <thead>\n",
       "    <tr>\n",
       "      <th class=\"blank level0\" >&nbsp;</th>\n",
       "      <th id=\"T_057fb_level0_col0\" class=\"col_heading level0 col0\" >verified_status</th>\n",
       "      <th id=\"T_057fb_level0_col1\" class=\"col_heading level0 col1\" >mean_views</th>\n",
       "    </tr>\n",
       "  </thead>\n",
       "  <tbody>\n",
       "    <tr>\n",
       "      <th id=\"T_057fb_level0_row0\" class=\"row_heading level0 row0\" >0</th>\n",
       "      <td id=\"T_057fb_row0_col0\" class=\"data row0 col0\" >not verified</td>\n",
       "      <td id=\"T_057fb_row0_col1\" class=\"data row0 col1\" >265663.785339</td>\n",
       "    </tr>\n",
       "    <tr>\n",
       "      <th id=\"T_057fb_level0_row1\" class=\"row_heading level0 row1\" >1</th>\n",
       "      <td id=\"T_057fb_row1_col0\" class=\"data row1 col0\" >verified</td>\n",
       "      <td id=\"T_057fb_row1_col1\" class=\"data row1 col1\" >91439.164167</td>\n",
       "    </tr>\n",
       "  </tbody>\n",
       "</table>\n"
      ],
      "text/plain": [
       "<pandas.io.formats.style.Styler at 0x23d00864610>"
      ]
     },
     "execution_count": 91,
     "metadata": {},
     "output_type": "execute_result"
    }
   ],
   "source": [
    "#Compute mean video count for verified and unverified accounts\n",
    "TikTok_df.groupby('verified_status')['video_view_count'].mean().reset_index(name= 'mean_views').style.background_gradient()"
   ]
  },
  {
   "cell_type": "markdown",
   "metadata": {},
   "source": [
    "**1. State the Hypotheses**\n",
    "\n",
    "Null hypothesis (HO):            Mean view count (not verified) <= Mean view count (verified)\n",
    "\n",
    "Alternative hypothesis (H1):    Mean view count (not verified) > Mean view count (verified)"
   ]
  },
  {
   "cell_type": "markdown",
   "metadata": {},
   "source": [
    "**2. Choose Alpha level = 5% (95% confidence level)**"
   ]
  },
  {
   "cell_type": "code",
   "execution_count": 79,
   "metadata": {},
   "outputs": [
    {
     "name": "stdout",
     "output_type": "stream",
     "text": [
      "Right-tailed T critical value: 1.6449334845961945\n",
      "Decision rule: reject the null hypothesis if T statistics > 1.65\n"
     ]
    }
   ],
   "source": [
    "#Calculate the right-tailed critical value of 95% confidence level \n",
    "alpha = 0.05\n",
    "df= dfn + dfd\n",
    "t_critical = stats.t.ppf(1 - alpha, df)\n",
    "\n",
    "print('Right-tailed T critical value:', t_critical)\n",
    "print('Decision rule: reject the null hypothesis if T statistics > 1.65')"
   ]
  },
  {
   "cell_type": "markdown",
   "metadata": {},
   "source": [
    "**3. Compute T statistics and P value**"
   ]
  },
  {
   "cell_type": "code",
   "execution_count": 87,
   "metadata": {},
   "outputs": [
    {
     "name": "stdout",
     "output_type": "stream",
     "text": [
      "(25.499441780633777, 1.3044411843588903e-120, 1571.1630743874239)\n",
      "Decision: Reject the null hypothesis because T statistics 25.5 > 1.65 T critical value\n",
      "          and we have a very small P value < 0.05 alpha\n"
     ]
    }
   ],
   "source": [
    "#Compute statistics\n",
    "t_test_result = sms.ttest_ind(notverified_account['video_view_count'], verified_account['video_view_count'], alternative= 'larger', usevar='unequal')\n",
    "print(t_test_result)\n",
    "print('Decision: Reject the null hypothesis because T statistics 25.5 > 1.65 T critical value\\n          and we have a very small P value < 0.05 alpha')"
   ]
  },
  {
   "cell_type": "markdown",
   "metadata": {},
   "source": [
    "**4. Conclusion**\n",
    "\n",
    "-Reject the Null Hypothesis: The null hypothesis (that the mean view count of not verified accounts is less than or equal to the mean view count of verified accounts) is rejected.\n",
    "\n",
    "-The extremely small P value indicates a very strong statistical significance. This result suggests a strong evidence that not verified accounts have a higher mean view count compared to verified accounts.\n",
    "\n",
    "-The next step: I believe investigating the reasons why verified accounts have more views than verified ones (For example, do unverified accounts tend to post more clickbait-y videos? Or are unverified accounts associated with spam bots that help inflate view counts?)"
   ]
  }
 ],
 "metadata": {
  "kernelspec": {
   "display_name": "base",
   "language": "python",
   "name": "python3"
  },
  "language_info": {
   "codemirror_mode": {
    "name": "ipython",
    "version": 3
   },
   "file_extension": ".py",
   "mimetype": "text/x-python",
   "name": "python",
   "nbconvert_exporter": "python",
   "pygments_lexer": "ipython3",
   "version": "3.11.5"
  }
 },
 "nbformat": 4,
 "nbformat_minor": 2
}
